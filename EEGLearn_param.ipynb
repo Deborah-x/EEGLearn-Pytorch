{
 "cells": [
  {
   "cell_type": "code",
   "execution_count": 7,
   "metadata": {},
   "outputs": [],
   "source": [
    "# -*- coding: utf-8 -*-\n",
    "from Models import *"
   ]
  },
  {
   "cell_type": "code",
   "execution_count": 8,
   "metadata": {},
   "outputs": [
    {
     "name": "stdout",
     "output_type": "stream",
     "text": [
      "Total number of trainable parameters: 1209060\n"
     ]
    }
   ],
   "source": [
    "net = BasicCNN()\n",
    "# 统计模型参数个数\n",
    "total_trainable_params = sum(p.numel() for p in net.parameters() if p.requires_grad)\n",
    "print('Total number of trainable parameters: %d' % total_trainable_params)"
   ]
  },
  {
   "cell_type": "code",
   "execution_count": 9,
   "metadata": {},
   "outputs": [
    {
     "name": "stdout",
     "output_type": "stream",
     "text": [
      "Total number of trainable parameters: 1207012\n"
     ]
    }
   ],
   "source": [
    "net = MaxCNN()\n",
    "# 统计模型参数个数\n",
    "total_trainable_params = sum(p.numel() for p in net.parameters() if p.requires_grad)\n",
    "print('Total number of trainable parameters: %d' % total_trainable_params)"
   ]
  },
  {
   "cell_type": "code",
   "execution_count": 10,
   "metadata": {},
   "outputs": [
    {
     "name": "stdout",
     "output_type": "stream",
     "text": [
      "Total number of trainable parameters: 2911268\n"
     ]
    }
   ],
   "source": [
    "net = TempCNN()\n",
    "# 统计模型参数个数\n",
    "total_trainable_params = sum(p.numel() for p in net.parameters() if p.requires_grad)\n",
    "print('Total number of trainable parameters: %d' % total_trainable_params)"
   ]
  },
  {
   "cell_type": "code",
   "execution_count": 11,
   "metadata": {},
   "outputs": [
    {
     "name": "stdout",
     "output_type": "stream",
     "text": [
      "Total number of trainable parameters: 638436\n"
     ]
    }
   ],
   "source": [
    "net = LSTM()\n",
    "# 统计模型参数个数\n",
    "total_trainable_params = sum(p.numel() for p in net.parameters() if p.requires_grad)\n",
    "print('Total number of trainable parameters: %d' % total_trainable_params)"
   ]
  },
  {
   "cell_type": "code",
   "execution_count": 12,
   "metadata": {},
   "outputs": [
    {
     "name": "stdout",
     "output_type": "stream",
     "text": [
      "Total number of trainable parameters: 3947044\n"
     ]
    }
   ],
   "source": [
    "net = Mix()\n",
    "# 统计模型参数个数\n",
    "total_trainable_params = sum(p.numel() for p in net.parameters() if p.requires_grad)\n",
    "print('Total number of trainable parameters: %d' % total_trainable_params)"
   ]
  }
 ],
 "metadata": {
  "kernelspec": {
   "display_name": "advTexture",
   "language": "python",
   "name": "python3"
  },
  "language_info": {
   "codemirror_mode": {
    "name": "ipython",
    "version": 3
   },
   "file_extension": ".py",
   "mimetype": "text/x-python",
   "name": "python",
   "nbconvert_exporter": "python",
   "pygments_lexer": "ipython3",
   "version": "3.8.16"
  }
 },
 "nbformat": 4,
 "nbformat_minor": 2
}
