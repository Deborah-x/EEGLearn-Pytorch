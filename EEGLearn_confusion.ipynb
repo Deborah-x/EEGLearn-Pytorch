{
 "cells": [
  {
   "cell_type": "code",
   "execution_count": 2,
   "metadata": {},
   "outputs": [
    {
     "name": "stderr",
     "output_type": "stream",
     "text": [
      "/home/chenh/.conda/envs/advTexture/lib/python3.8/site-packages/tqdm/auto.py:21: TqdmWarning: IProgress not found. Please update jupyter and ipywidgets. See https://ipywidgets.readthedocs.io/en/stable/user_install.html\n",
      "  from .autonotebook import tqdm as notebook_tqdm\n"
     ]
    },
    {
     "name": "stdout",
     "output_type": "stream",
     "text": [
      "Device: cuda:4\n"
     ]
    }
   ],
   "source": [
    "import torch\n",
    "\n",
    "if torch.cuda.is_available():\n",
    "    device = torch.device(\"cuda:4\")\n",
    "    print(f\"Device: {device}\")\n"
   ]
  },
  {
   "cell_type": "code",
   "execution_count": 3,
   "metadata": {},
   "outputs": [
    {
     "name": "stderr",
     "output_type": "stream",
     "text": [
      "2024-01-17 09:04:00.070124: I tensorflow/core/platform/cpu_feature_guard.cc:193] This TensorFlow binary is optimized with oneAPI Deep Neural Network Library (oneDNN) to use the following CPU instructions in performance-critical operations:  AVX2 AVX512F AVX512_VNNI FMA\n",
      "To enable them in other operations, rebuild TensorFlow with the appropriate compiler flags.\n",
      "2024-01-17 09:04:00.447478: I tensorflow/core/util/port.cc:104] oneDNN custom operations are on. You may see slightly different numerical results due to floating-point round-off errors from different computation orders. To turn them off, set the environment variable `TF_ENABLE_ONEDNN_OPTS=0`.\n",
      "2024-01-17 09:04:01.550018: W tensorflow/compiler/xla/stream_executor/platform/default/dso_loader.cc:64] Could not load dynamic library 'libnvinfer.so.7'; dlerror: libnvinfer.so.7: cannot open shared object file: No such file or directory\n",
      "2024-01-17 09:04:01.550306: W tensorflow/compiler/xla/stream_executor/platform/default/dso_loader.cc:64] Could not load dynamic library 'libnvinfer_plugin.so.7'; dlerror: libnvinfer_plugin.so.7: cannot open shared object file: No such file or directory\n",
      "2024-01-17 09:04:01.550331: W tensorflow/compiler/tf2tensorrt/utils/py_utils.cc:38] TF-TRT Warning: Cannot dlopen some TensorRT libraries. If you would like to use Nvidia GPU with TensorRT, please make sure the missing libraries mentioned above are installed properly.\n"
     ]
    }
   ],
   "source": [
    "import numpy as np \n",
    "import scipy.io as sio\n",
    "import torch\n",
    "import os \n",
    "import tqdm\n",
    "\n",
    "import torch.optim as optim\n",
    "import torch.nn.functional as F\n",
    "\n",
    "from torch.autograd import Variable\n",
    "from torch.utils.data.dataset import Dataset\n",
    "from torch.utils.data import DataLoader,random_split\n",
    "\n",
    "from sklearn.metrics import confusion_matrix\n",
    "import seaborn as sns\n",
    "import matplotlib.pyplot as plt\n",
    "\n",
    "from Utils import *\n",
    "from Models import *\n",
    "\n",
    "torch.manual_seed(1234)\n",
    "np.random.seed(1234)\n",
    "\n",
    "import warnings\n",
    "warnings.simplefilter(\"ignore\")"
   ]
  },
  {
   "cell_type": "code",
   "execution_count": 4,
   "metadata": {},
   "outputs": [
    {
     "name": "stdout",
     "output_type": "stream",
     "text": [
      "(2670, 3, 32, 32)\n",
      "(7, 2670, 3, 32, 32)\n",
      "(2670,)\n",
      "(2670,)\n"
     ]
    }
   ],
   "source": [
    "Mean_Images = sio.loadmat(\"Sample Data/images.mat\")[\"img\"] #corresponding to the images mean for all the seven windows\n",
    "print(np.shape(Mean_Images)) \n",
    "Images = sio.loadmat(\"Sample Data/images_time.mat\")[\"img\"] #corresponding to the images mean for all the seven windows\n",
    "print(np.shape(Images)) \n",
    "Label = (sio.loadmat(\"Sample Data/FeatureMat_timeWin\")[\"features\"][:,-1]-1).astype(int) #corresponding to the signal label (i.e. load levels). 0,1,2,3\n",
    "print(np.shape(Label)) \n",
    "Patient_id = sio.loadmat(\"Sample Data/trials_subNums.mat\")['subjectNum'][0] #corresponding to the patient id\n",
    "print(np.shape(Patient_id))"
   ]
  },
  {
   "cell_type": "code",
   "execution_count": 5,
   "metadata": {},
   "outputs": [
    {
     "name": "stdout",
     "output_type": "stream",
     "text": [
      "Choose among the patient : [ 1  2  3  4  6  7  8  9 10 11 12 14 15]\n"
     ]
    }
   ],
   "source": [
    "print(\"Choose among the patient : \"+str(np.unique(Patient_id)))"
   ]
  },
  {
   "cell_type": "code",
   "execution_count": 6,
   "metadata": {},
   "outputs": [],
   "source": [
    "choosen_patient = 6"
   ]
  },
  {
   "cell_type": "code",
   "execution_count": 7,
   "metadata": {},
   "outputs": [],
   "source": [
    "train_part = 0.8\n",
    "test_part = 0.2\n",
    "\n",
    "batch_size = 32\n",
    "\n",
    "n_epoch = 30\n",
    "n_rep = 20  # 记录20次重复实验的结果"
   ]
  },
  {
   "cell_type": "code",
   "execution_count": 8,
   "metadata": {},
   "outputs": [],
   "source": [
    "\n",
    "def Confusion_Test_Model(net, Testloader, criterion, is_cuda=True):\n",
    "    running_loss = 0.0 \n",
    "    evaluation = []\n",
    "    predicted_label = []\n",
    "    true_label = []\n",
    "    for i, data in enumerate(Testloader, 0):\n",
    "        input_img, labels = data\n",
    "        input_img = input_img.to(torch.float32)\n",
    "        if is_cuda:\n",
    "            input_img = input_img.cuda()\n",
    "        outputs = net(input_img)\n",
    "        _, predicted = torch.max(outputs.cpu().data, 1)\n",
    "        predicted_label += predicted.cpu().data.tolist()\n",
    "        true_label += labels.tolist()\n",
    "        evaluation.append((predicted==labels).tolist())\n",
    "        loss = criterion(outputs, labels.cuda())\n",
    "        running_loss += loss.item()\n",
    "    running_loss = running_loss/(i+1)\n",
    "    evaluation = [item for sublist in evaluation for item in sublist]\n",
    "    running_acc = sum(evaluation)/len(evaluation)\n",
    "    return running_loss, running_acc, predicted_label, true_label"
   ]
  },
  {
   "cell_type": "code",
   "execution_count": 9,
   "metadata": {},
   "outputs": [],
   "source": [
    "def Confusion_Train_Model(model, trainloader, testloader, n_epoch=30, opti='SGD', learning_rate=0.0001, is_cuda=True, print_epoch =5, verbose=False):\n",
    "    if is_cuda:\n",
    "        net = model().cuda()\n",
    "    else :\n",
    "        net = model()\n",
    "        \n",
    "    criterion = nn.CrossEntropyLoss()\n",
    "    \n",
    "    if opti=='SGD':\n",
    "        optimizer = optim.SGD(net.parameters(), lr=learning_rate)\n",
    "    elif opti =='Adam':\n",
    "        optimizer = optim.Adam(net.parameters(), lr=learning_rate)\n",
    "    else: \n",
    "        print(\"Optimizer: \"+optim+\" not implemented.\")\n",
    "\n",
    "\n",
    "    predicted_label = []\n",
    "    true_label = []\n",
    "    max_acc = 0    \n",
    "    for epoch in tqdm.tqdm(range(n_epoch)):\n",
    "        running_loss = 0.0\n",
    "        evaluation = []\n",
    "        for i, data in enumerate(trainloader, 0):\n",
    "            # get the inputs; data is a list of [inputs, labels]\n",
    "            inputs, labels = data\n",
    "            # zero the parameter gradients\n",
    "            optimizer.zero_grad()\n",
    "\n",
    "            # forward + backward + optimize\n",
    "            outputs = net(inputs.to(torch.float32).cuda())  # (batch_size, 4)\n",
    "            _, predicted = torch.max(outputs.cpu().data, 1) # 取出4个类别中最大概率对应的索引\n",
    "            evaluation.append((predicted==labels).tolist())\n",
    "            loss = criterion(outputs, labels.cuda())\n",
    "            loss.backward()\n",
    "            optimizer.step()\n",
    "\n",
    "            running_loss += loss.item()\n",
    "\n",
    "        running_loss = running_loss/(i+1)\n",
    "        evaluation = [item for sublist in evaluation for item in sublist]\n",
    "        running_acc = sum(evaluation)/len(evaluation)\n",
    "        validation_loss, validation_acc, predicted_, true_ = Confusion_Test_Model(net, testloader, criterion,True)\n",
    "        if validation_acc > max_acc:\n",
    "            max_acc = validation_acc\n",
    "            predicted_label = predicted_\n",
    "            true_label = true_\n",
    "\n",
    "\n",
    "        if epoch%print_epoch==(print_epoch-1):\n",
    "            print('[%d, %3d]\\tloss: %.3f\\tAccuracy : %.3f\\t\\tval-loss: %.3f\\tval-Accuracy : %.3f' %\n",
    "             (epoch+1, n_epoch, running_loss, running_acc, validation_loss, validation_acc))\n",
    "    \n",
    "    return (running_loss, running_acc, validation_loss,validation_acc), predicted_label, true_label"
   ]
  },
  {
   "cell_type": "code",
   "execution_count": 10,
   "metadata": {},
   "outputs": [
    {
     "name": "stdout",
     "output_type": "stream",
     "text": [
      "\n",
      "\n",
      "\n",
      "\n",
      " Temp CNN \n",
      "\n",
      "\n",
      "\n",
      "\n"
     ]
    },
    {
     "name": "stderr",
     "output_type": "stream",
     "text": [
      "100%|██████████| 30/30 [01:22<00:00,  2.75s/it]\n",
      "100%|██████████| 30/30 [01:23<00:00,  2.80s/it]\n",
      "100%|██████████| 30/30 [01:23<00:00,  2.79s/it]\n",
      "100%|██████████| 30/30 [01:21<00:00,  2.71s/it]\n",
      "100%|██████████| 30/30 [01:23<00:00,  2.77s/it]\n",
      "100%|██████████| 30/30 [01:23<00:00,  2.78s/it]\n",
      "100%|██████████| 30/30 [01:21<00:00,  2.73s/it]\n",
      "100%|██████████| 30/30 [01:23<00:00,  2.78s/it]\n",
      "100%|██████████| 30/30 [01:23<00:00,  2.77s/it]\n",
      "100%|██████████| 30/30 [01:22<00:00,  2.76s/it]\n",
      "100%|██████████| 30/30 [01:23<00:00,  2.78s/it]\n",
      "100%|██████████| 30/30 [01:22<00:00,  2.74s/it]\n",
      "100%|██████████| 30/30 [01:23<00:00,  2.78s/it]\n",
      "100%|██████████| 30/30 [01:23<00:00,  2.77s/it]\n",
      "100%|██████████| 30/30 [01:22<00:00,  2.74s/it]\n",
      "100%|██████████| 30/30 [01:22<00:00,  2.76s/it]\n",
      "100%|██████████| 30/30 [01:23<00:00,  2.78s/it]\n",
      "100%|██████████| 30/30 [01:21<00:00,  2.73s/it]\n",
      "100%|██████████| 30/30 [01:23<00:00,  2.78s/it]\n",
      "100%|██████████| 30/30 [01:23<00:00,  2.77s/it]\n"
     ]
    }
   ],
   "source": [
    "print(\"\\n\\n\\n\\n Temp CNN \\n\\n\\n\\n\")\n",
    "\n",
    "Predict_Label = []\n",
    "True_Label = []\n",
    "Result = []\n",
    "for r in range(n_rep):\n",
    "    label = Label[Patient_id == choosen_patient]    # (185,)\n",
    "    image = Images[:, Patient_id == choosen_patient, :, :]  # (7,185,3,32,32)\n",
    "    image = np.transpose(image, (1, 0, 2, 3, 4))  # (185,7,3,32,32)\n",
    "    EEG = EEGImagesDataset(label=label, image=image)\n",
    "    lengths = [int(len(EEG) * train_part + 1), int(len(EEG) * test_part)]\n",
    "    if sum(lengths) < len(EEG):\n",
    "        lengths[0] = lengths[0] + 1\n",
    "    if sum(lengths) > len(EEG):\n",
    "        lengths[0] = lengths[0] - 1\n",
    "    Train, Test = random_split(EEG, lengths)\n",
    "    Trainloader = DataLoader(Train, batch_size=batch_size)\n",
    "    Testloader = DataLoader(Test, batch_size=batch_size)\n",
    "    res, predicted_, true_ = Confusion_Train_Model(TempCNN, Trainloader, Testloader, n_epoch=n_epoch, learning_rate=0.001, print_epoch=-1,\n",
    "                            opti='Adam')\n",
    "    Result.append(res)\n",
    "    Predict_Label.append(predicted_)\n",
    "    True_Label.append(true_)\n",
    "    "
   ]
  },
  {
   "cell_type": "code",
   "execution_count": 11,
   "metadata": {},
   "outputs": [
    {
     "name": "stdout",
     "output_type": "stream",
     "text": [
      "0.9743589743589743\n",
      "0.9487179487179487\n",
      "0.9230769230769231\n",
      "0.9743589743589743\n",
      "0.8974358974358975\n",
      "0.9743589743589743\n",
      "0.9743589743589743\n",
      "1.0\n",
      "0.9487179487179487\n",
      "1.0\n",
      "0.9743589743589743\n",
      "0.9743589743589743\n",
      "0.8717948717948718\n",
      "0.9487179487179487\n",
      "1.0\n",
      "0.9487179487179487\n",
      "0.9743589743589743\n",
      "1.0\n",
      "0.9743589743589743\n",
      "0.9487179487179487\n",
      "Mean Accuracy: 0.9615384615384615\n"
     ]
    }
   ],
   "source": [
    "for i in range(len(Result)):\n",
    "    print(Result[i][3])\n",
    "\n",
    "print(\"Mean Accuracy: \"+str(np.mean([Result[i][3] for i in range(len(Result))])))"
   ]
  },
  {
   "cell_type": "code",
   "execution_count": 12,
   "metadata": {},
   "outputs": [
    {
     "name": "stdout",
     "output_type": "stream",
     "text": [
      "The largest accuracy is:  1.0\n",
      "The corresponding confusion matrix is: [[16  0  0  0]\n",
      " [ 0 10  0  0]\n",
      " [ 0  0 11  0]\n",
      " [ 0  0  0  2]]\n",
      "The second largest accuracy is:  0.9743589743589743\n",
      "The third largest accuracy is:  0.9487179487179487\n"
     ]
    },
    {
     "data": {
      "image/png": "[encoded data removed]",
      "text/plain": [
       "<Figure size 640x480 with 1 Axes>"
      ]
     },
     "metadata": {},
     "output_type": "display_data"
    }
   ],
   "source": [
    "# find the largest accuracy among the 20 times\n",
    "max_acc = 0\n",
    "for i in range(len(Result)):\n",
    "    if Result[i][3] > max_acc:\n",
    "        max_acc = Result[i][3]\n",
    "        max_index = i\n",
    "print(\"The largest accuracy is: \", max_acc)\n",
    "# 计算混淆矩阵\n",
    "cm = confusion_matrix(True_Label[max_index], Predict_Label[max_index])\n",
    "print(f\"The corresponding confusion matrix is: {cm}\")\n",
    "# 可视化混淆矩阵\n",
    "sns.heatmap(cm, annot=True, cmap=\"Blues\", fmt=\"d\", cbar=False,\n",
    "            xticklabels=['1','2','3','4'], yticklabels=['1','2','3','4'])\n",
    "plt.xlabel('Predicted Label')\n",
    "plt.ylabel('True Label')\n",
    "plt.title('Confusion Matrix')\n",
    "# 保存混淆矩阵为图片文件\n",
    "plt.savefig('ConfusionMatrix.png', dpi=400)\n",
    "\n",
    "# find the second largest accuracy among the 20 times\n",
    "second_max_acc = 0\n",
    "for i in range(len(Result)):\n",
    "    if Result[i][3] > second_max_acc and Result[i][3] < max_acc:\n",
    "        second_max_acc = Result[i][3]\n",
    "        second_max_index = i\n",
    "print(\"The second largest accuracy is: \", second_max_acc)\n",
    "# # 计算混淆矩阵\n",
    "# sec_cm = confusion_matrix(True_Label[second_max_index], Predict_Label[second_max_index])\n",
    "# print(f\"The corresponding confusion matrix is: {sec_cm}\")\n",
    "# # 可视化混淆矩阵\n",
    "# sns.heatmap(sec_cm, annot=True, cmap=\"Blues\", fmt=\"d\", cbar=False,\n",
    "#             xticklabels=['1','2','3','4'], yticklabels=['1','2','3','4'])\n",
    "# plt.xlabel('Predicted Label')\n",
    "# plt.ylabel('True Label')\n",
    "# plt.title('Confusion Matrix')\n",
    "# # 保存混淆矩阵为图片文件\n",
    "# plt.savefig('ConfusionMatrix.png', dpi=400)\n",
    "\n",
    "# find the third largest accuracy among the 20 times\n",
    "third_max_acc = 0\n",
    "for i in range(len(Result)):\n",
    "    if Result[i][3] > third_max_acc and Result[i][3] < second_max_acc:\n",
    "        third_max_acc = Result[i][3]\n",
    "        third_max_index = i\n",
    "print(\"The third largest accuracy is: \", third_max_acc)\n",
    "# # 计算混淆矩阵\n",
    "# third_cm = confusion_matrix(True_Label[third_max_index], Predict_Label[third_max_index])\n",
    "# print(f\"The corresponding confusion matrix is: {third_cm}\")\n",
    "# # 可视化混淆矩阵\n",
    "# sns.heatmap(third_cm, annot=True, cmap=\"Blues\", fmt=\"d\", cbar=False,\n",
    "#             xticklabels=['1','2','3','4'], yticklabels=['1','2','3','4'])\n",
    "# plt.xlabel('Predicted Label')\n",
    "# plt.ylabel('True Label')\n",
    "# plt.title('Confusion Matrix')\n",
    "# # 保存混淆矩阵为图片文件\n",
    "# plt.savefig('ConfusionMatrix.png', dpi=400)\n",
    "\n",
    "# # find the forth largest accuracy among the 20 times\n",
    "# forth_max_acc = 0\n",
    "# for i in range(len(Result)):\n",
    "#     if Result[i][3] > forth_max_acc and Result[i][3] < third_max_acc:\n",
    "#         forth_max_acc = Result[i][3]\n",
    "#         forth_max_index = i\n",
    "# print(\"The forth largest accuracy is: \", forth_max_acc)\n",
    "# # 计算混淆矩阵\n",
    "# third_cm = confusion_matrix(True_Label[forth_max_index], Predict_Label[forth_max_index])\n",
    "# print(f\"The corresponding confusion matrix is:\\n {third_cm}\")\n",
    "# # 可视化混淆矩阵\n",
    "# sns.heatmap(third_cm, annot=True, cmap=\"Blues\", fmt=\"d\", cbar=False,\n",
    "#             xticklabels=['1','2','3','4'], yticklabels=['1','2','3','4'])\n",
    "# plt.xlabel('Predicted Label')\n",
    "# plt.ylabel('True Label')\n",
    "# plt.title('Confusion Matrix')\n",
    "# # 保存混淆矩阵为图片文件\n",
    "# plt.savefig('ConfusionMatrix.png', dpi=400)\n",
    "\n"
   ]
  }
 ],
 "metadata": {
  "kernelspec": {
   "display_name": "advTexture",
   "language": "python",
   "name": "python3"
  },
  "language_info": {
   "codemirror_mode": {
    "name": "ipython",
    "version": 3
   },
   "file_extension": ".py",
   "mimetype": "text/x-python",
   "name": "python",
   "nbconvert_exporter": "python",
   "pygments_lexer": "ipython3",
   "version": "3.8.16"
  }
 },
 "nbformat": 4,
 "nbformat_minor": 2
}
